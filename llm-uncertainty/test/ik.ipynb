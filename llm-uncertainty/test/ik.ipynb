{
 "cells": [
  {
   "cell_type": "code",
   "execution_count": 2,
   "metadata": {},
   "outputs": [],
   "source": [
    "import numpy as np\n"
   ]
  },
  {
   "cell_type": "code",
   "execution_count": 1,
   "metadata": {},
   "outputs": [
    {
     "name": "stderr",
     "output_type": "stream",
     "text": [
      "/home/rilab/.local/lib/python3.10/site-packages/tqdm/auto.py:21: TqdmWarning: IProgress not found. Please update jupyter and ipywidgets. See https://ipywidgets.readthedocs.io/en/stable/user_install.html\n",
      "  from .autonotebook import tqdm as notebook_tqdm\n",
      "2023-09-23 20:13:48,235\tINFO util.py:159 -- Missing packages: ['ipywidgets']. Run `pip install -U ipywidgets`, then restart the notebook server for rich notebook output.\n"
     ]
    }
   ],
   "source": [
    "import copy\n",
    "import mujoco\n",
    "import numpy as np\n",
    "import matplotlib.pyplot as plt\n",
    "import sys\n",
    "# sys.path.append(\"../../../\")\n",
    "from model.mujoco_parser import MuJoCoParserClass\n",
    "from model.util import sample_xyzs,rpy2r,r2quat,get_interp_const_vel_traj"
   ]
  },
  {
   "cell_type": "code",
   "execution_count": 2,
   "metadata": {},
   "outputs": [
    {
     "name": "stdout",
     "output_type": "stream",
     "text": [
      "window\n"
     ]
    }
   ],
   "source": [
    "xml_path = './asset/visualize_realworld_wo_shelf_pringles.xml'\n",
    "env = MuJoCoParserClass(name='Place task scene: Office table',rel_xml_path=xml_path,VERBOSE=False, MODE='window')\n",
    "print(env.MODE)\n",
    "\n",
    "# Move tables and robot base\n",
    "env.model.body('base_table').pos = np.array([0,0,0])\n",
    "env.model.body('avoiding_object_table').pos = np.array([0.38+0.45,0,0])\n",
    "env.model.body('ur_base').pos = np.array([-0.18,0,0.79])\n",
    "env.model.body('right_object_table').pos = np.array([-0.05,-0.80,0])\n",
    "env.model.body('left_object_table').pos = np.array([-0.05,0.80,0])\n",
    "\n",
    "# Place objects\n",
    "tray_pos = np.array([ 0.9, 0.0, 0.8])\n",
    "bowl_red_pos = np.array([ 0.9, 0.3, 0.8])\n",
    "bowl_blue_pos = np.array([ 0.9, -0.3, 0.8])\n",
    "env.model.joint(env.model.body('tray_gray').jntadr[0]).qpos0[:3] = tray_pos\n",
    "env.model.joint(env.model.body('kitchen-bowl-red').jntadr[0]).qpos0[:3] = bowl_red_pos\n",
    "env.model.joint(env.model.body('kitchen-bowl-blue').jntadr[0]).qpos0[:3] = bowl_blue_pos\n",
    "\n",
    "env.model.joint(env.model.body('ycb-apple-2').jntadr[0]).qpos0[:3] = bowl_red_pos + np.array([0.0,0.0,0.02])\n",
    "env.model.joint(env.model.body('ycb-banana-2').jntadr[0]).qpos0[:3] = tray_pos + np.array([0.0,0.03,0.2])\n",
    "env.model.joint(env.model.body('ycb-banana-2').jntadr[0]).qpos0[3:] = r2quat(rpy2r(np.radians([0, 0, 90])))\n",
    "env.model.joint(env.model.body('ycb-lemon-2').jntadr[0]).qpos0[:3] = tray_pos + np.array([-0.03,-0.07,0.02])\n",
    "env.model.joint(env.model.body('ycb-orange-2').jntadr[0]).qpos0[:3] = bowl_blue_pos + np.array([0.0,0.0,0.02])\n",
    "\n",
    "# Target objects\n",
    "env.model.joint(env.model.body('ycb-banana').jntadr[0]).qpos0[:3] = np.array([-5.0,-1.5,0.2])\n",
    "env.model.joint(env.model.body('ycb-apple').jntadr[0]).qpos0[:3] = np.array([0.15, -0.8, 0.8])\n",
    "env.model.joint(env.model.body('ycb-lemon').jntadr[0]).qpos0[:3] = np.array([0.075, -0.8, 0.8])\n",
    "env.model.joint(env.model.body('ycb-orange').jntadr[0]).qpos0[:3] = np.array([0.0, -0.8, 0.8])\n",
    "\n",
    "joint_names = env.rev_joint_names[:6]\n",
    "idxs_forward = [env.model.joint(joint_name).qposadr[0] for joint_name in env.joint_names[:6]]\n",
    "idxs_jacobian = [env.model.joint(joint_name).dofadr[0] for joint_name in env.joint_names[:6]]\n",
    "list1, list2 = env.ctrl_joint_idxs, idxs_forward\n",
    "idxs_step = []\n",
    "for i in range(len(list2)):\n",
    "    if list2[i] in list1:\n",
    "        idxs_step.append(list1.index(list2[i]))"
   ]
  },
  {
   "cell_type": "code",
   "execution_count": 3,
   "metadata": {},
   "outputs": [],
   "source": [
    "# Origin\n",
    "capture_q = np.array([np.deg2rad(-90), np.deg2rad(-132.46), np.deg2rad(122.85), np.deg2rad(99.65), np.deg2rad(45), np.deg2rad(-90.02)])\n"
   ]
  },
  {
   "cell_type": "code",
   "execution_count": 18,
   "metadata": {},
   "outputs": [],
   "source": [
    "#### \n",
    "def rand_in_range(q):\n",
    "    cos_q = np.cos(q)\n",
    "    sin_q = np.sin(q)\n",
    "    refined_q = np.arctan2(sin_q, cos_q)\n",
    "    return refined_q"
   ]
  },
  {
   "cell_type": "code",
   "execution_count": 19,
   "metadata": {},
   "outputs": [],
   "source": [
    "def solve_ik(env:MuJoCoParserClass,body_name,p_trgt,R_trgt,IK_P,IK_R,q_init,idxs_forward, idxs_jacobian,\n",
    "                RESET=False,DO_RENDER=False,render_every=1,th=1*np.pi/180.0,err_th=1e-6,w_weight=1.0, stepsize=1.0, eps=0.1,\n",
    "                repulse = 30, inc_prefix = None, exc_prefix = None):\n",
    "    \"\"\"\n",
    "        Solve IK\n",
    "    \"\"\"\n",
    "    if RESET:\n",
    "        env.reset()\n",
    "    q_backup = env.get_q(joint_idxs=idxs_forward)\n",
    "    q = q_init.copy()\n",
    "    env.forward(q=q,joint_idxs=env.idxs_forward)\n",
    "    q = q[idxs_forward]\n",
    "    tick = 0\n",
    "    while True:\n",
    "        tick = tick + 1\n",
    "        J,err = env.get_ik_ingredients(\n",
    "            body_name=body_name,p_trgt=p_trgt,R_trgt=R_trgt,IK_P=IK_P,IK_R=IK_R, w_weight=w_weight)\n",
    "        dq = env.damped_ls(J,err,stepsize=stepsize,eps=eps,th=th)\n",
    "        q = q + dq[idxs_jacobian]\n",
    "        env.forward(q=q,joint_idxs=idxs_forward)\n",
    "\n",
    "        p_contacts,f_contacts,geom1s,geom2s,body1s,body2s = env.get_contact_info(must_include_prefix=inc_prefix, must_exclude_prefix=exc_prefix)\n",
    "        \n",
    "        body1s_ = [obj_ for obj_ in body1s if obj_ not in [\"ur_rg2_gripper_finger1_finger_tip_link\",\"ur_rg2_gripper_finger2_finger_tip_link\"]]\n",
    "        body2s_ = [obj_ for obj_ in body2s if obj_ not in [\"ur_rg2_gripper_finger1_finger_tip_link\",\"ur_rg2_gripper_finger2_finger_tip_link\"]]\n",
    "        \n",
    "        if len(body1s_) > 0:\n",
    "            q = q - dq[idxs_jacobian] * repulse\n",
    "        \n",
    "        # Terminate condition\n",
    "        err_norm = np.linalg.norm(err)\n",
    "        if err_norm < err_th:\n",
    "            break\n",
    "        # Render\n",
    "        if DO_RENDER:\n",
    "            if ((tick-1)%render_every) == 0:\n",
    "                p_tcp,R_tcp = env.get_pR_body(body_name=body_name)\n",
    "                env.plot_T(p=p_tcp,R=R_tcp,PLOT_AXIS=True,axis_len=0.1,axis_width=0.005)\n",
    "                env.plot_T(p=p_trgt,R=R_trgt,PLOT_AXIS=True,axis_len=0.2,axis_width=0.005)\n",
    "                env.render(render_every=render_every)\n",
    "    # Back to back-uped position\n",
    "    q_ik = env.get_q(joint_idxs=idxs_forward)\n",
    "    env.forward(q=q_backup,joint_idxs=idxs_forward)\n",
    "    q_ik = rand_in_range(q_ik)\n",
    "    return q_ik"
   ]
  },
  {
   "cell_type": "code",
   "execution_count": 16,
   "metadata": {},
   "outputs": [
    {
     "data": {
      "text/plain": [
       "array([1.44918831e-01, 5.41244959e-04, 1.14113508e+00])"
      ]
     },
     "execution_count": 16,
     "metadata": {},
     "output_type": "execute_result"
    }
   ],
   "source": [
    "env.get_p_body(body_name='ur_tcp_link')"
   ]
  },
  {
   "cell_type": "code",
   "execution_count": 20,
   "metadata": {},
   "outputs": [
    {
     "name": "stdout",
     "output_type": "stream",
     "text": [
      "[-1.57079633 -2.31186313  2.14413699  1.7392206   0.78539816 -1.57114539]\n",
      "Initial Joint values: [-1.57079633 -2.31186313  2.14413699  1.7392206   0.78539816 -1.57114539]\n",
      "Solved IK: [-2.89943624e+00 -2.34831129e+00 -1.68530159e+00 -2.25158631e+00\n",
      " -1.32768713e+00  7.17750593e-04]\n",
      "Done.\n"
     ]
    }
   ],
   "source": [
    "env.init_viewer(viewer_title='IK solver',viewer_width=1200,viewer_height=800,viewer_hide_menus=True, MODE='window')\n",
    "env.update_viewer(azimuth=00,distance=2.5,elevation=-30,lookat=[0,0,1.5])\n",
    "env.update_viewer(VIS_JOINT=False,jointlength=0.5,jointwidth=0.1,jointrgba=[0.2,0.6,0.8,0.6])\n",
    "env.reset() # reset\n",
    "\n",
    "q_init = capture_q.copy()\n",
    "# q_init = q_ik_target #np.array([0.65, 0.27 , 0.9])\n",
    "print(q_init)\n",
    "env.forward(q=q_init,joint_idxs=idxs_forward)\n",
    "p_target = np.array([0.65, 0.0 , 0.85])\n",
    "R_target = rpy2r(np.array([-180,0,90])*np.pi/180.0)\n",
    "# R_target = rpy2r(np.array([-180,0,90])*np.pi/180.0)\n",
    "\n",
    "q_ik_target = solve_ik(env=env,\n",
    "    body_name='ur_tcp_link',p_trgt=p_target,R_trgt=R_target,\n",
    "    IK_P=True,IK_R=True, q_init=capture_q,idxs_forward=env.idxs_forward, idxs_jacobian=env.idxs_jacobian,\n",
    "    inc_prefix = 'ur', exc_prefix=None,\n",
    "    RESET=False, DO_RENDER=True, th=1, err_th=1e-3, stepsize=1, w_weight=0.3, render_every=1.0, repulse=10)\n",
    "\n",
    "print(f\"Initial Joint values: {q_init}\")\n",
    "print(f\"Solved IK: {q_ik_target}\")\n",
    "\n",
    "# Close viewer\n",
    "env.close_viewer()\n",
    "print (\"Done.\")"
   ]
  },
  {
   "cell_type": "code",
   "execution_count": 8,
   "metadata": {},
   "outputs": [],
   "source": [
    "# env.close_viewer()"
   ]
  },
  {
   "cell_type": "code",
   "execution_count": 60,
   "metadata": {},
   "outputs": [
    {
     "data": {
      "text/plain": [
       "[0, 1, 2, 3, 4, 5]"
      ]
     },
     "execution_count": 60,
     "metadata": {},
     "output_type": "execute_result"
    }
   ],
   "source": [
    "env.idxs_jacobian"
   ]
  },
  {
   "cell_type": "code",
   "execution_count": 65,
   "metadata": {},
   "outputs": [
    {
     "data": {
      "text/plain": [
       "array([ 1.99770948e-01, -5.78930392e-01,  1.07079956e+00, -4.90775170e-01,\n",
       "        1.77120524e+00,  2.43002636e-04])"
      ]
     },
     "execution_count": 65,
     "metadata": {},
     "output_type": "execute_result"
    }
   ],
   "source": [
    "env.step()\n",
    "q_init = q_ik_target\n",
    "q_init"
   ]
  },
  {
   "cell_type": "code",
   "execution_count": 66,
   "metadata": {},
   "outputs": [
    {
     "name": "stdout",
     "output_type": "stream",
     "text": [
      "Unexpected exception formatting exception. Falling back to standard exception\n"
     ]
    },
    {
     "name": "stderr",
     "output_type": "stream",
     "text": [
      "Traceback (most recent call last):\n",
      "  File \"/home/rilab/.local/lib/python3.10/site-packages/IPython/core/interactiveshell.py\", line 3508, in run_code\n",
      "    exec(code_obj, self.user_global_ns, self.user_ns)\n",
      "  File \"/tmp/ipykernel_44387/4248793273.py\", line 4, in <module>\n",
      "    q_ik_target = solve_ik(env=env,\n",
      "  File \"/tmp/ipykernel_44387/874482196.py\", line 40, in solve_ik\n",
      "    env.render(render_every=render_every)\n",
      "  File \"/home/rilab/ur_ws/src/llm-uncertainty/llm-uncertainty/model/mujoco_parser.py\", line 282, in render\n",
      "    self.viewer.render()\n",
      "  File \"/home/rilab/.local/lib/python3.10/site-packages/mujoco_viewer/mujoco_viewer.py\", line 309, in render\n",
      "    raise Exception(\n",
      "Exception: GLFW window does not exist but you tried to render.\n",
      "\n",
      "During handling of the above exception, another exception occurred:\n",
      "\n",
      "Traceback (most recent call last):\n",
      "  File \"/home/rilab/.local/lib/python3.10/site-packages/IPython/core/interactiveshell.py\", line 2105, in showtraceback\n",
      "    stb = self.InteractiveTB.structured_traceback(\n",
      "  File \"/home/rilab/.local/lib/python3.10/site-packages/IPython/core/ultratb.py\", line 1428, in structured_traceback\n",
      "    return FormattedTB.structured_traceback(\n",
      "  File \"/home/rilab/.local/lib/python3.10/site-packages/IPython/core/ultratb.py\", line 1319, in structured_traceback\n",
      "    return VerboseTB.structured_traceback(\n",
      "  File \"/home/rilab/.local/lib/python3.10/site-packages/IPython/core/ultratb.py\", line 1172, in structured_traceback\n",
      "    formatted_exception = self.format_exception_as_a_whole(etype, evalue, etb, number_of_lines_of_context,\n",
      "  File \"/home/rilab/.local/lib/python3.10/site-packages/IPython/core/ultratb.py\", line 1087, in format_exception_as_a_whole\n",
      "    frames.append(self.format_record(record))\n",
      "  File \"/home/rilab/.local/lib/python3.10/site-packages/IPython/core/ultratb.py\", line 969, in format_record\n",
      "    frame_info.lines, Colors, self.has_colors, lvals\n",
      "  File \"/home/rilab/.local/lib/python3.10/site-packages/IPython/core/ultratb.py\", line 792, in lines\n",
      "    return self._sd.lines\n",
      "  File \"/home/rilab/.local/lib/python3.10/site-packages/stack_data/utils.py\", line 144, in cached_property_wrapper\n",
      "    value = obj.__dict__[self.func.__name__] = self.func(obj)\n",
      "  File \"/home/rilab/.local/lib/python3.10/site-packages/stack_data/core.py\", line 734, in lines\n",
      "    pieces = self.included_pieces\n",
      "  File \"/home/rilab/.local/lib/python3.10/site-packages/stack_data/utils.py\", line 144, in cached_property_wrapper\n",
      "    value = obj.__dict__[self.func.__name__] = self.func(obj)\n",
      "  File \"/home/rilab/.local/lib/python3.10/site-packages/stack_data/core.py\", line 677, in included_pieces\n",
      "    scope_pieces = self.scope_pieces\n",
      "  File \"/home/rilab/.local/lib/python3.10/site-packages/stack_data/utils.py\", line 144, in cached_property_wrapper\n",
      "    value = obj.__dict__[self.func.__name__] = self.func(obj)\n",
      "  File \"/home/rilab/.local/lib/python3.10/site-packages/stack_data/core.py\", line 614, in scope_pieces\n",
      "    scope_start, scope_end = self.source.line_range(self.scope)\n",
      "  File \"/home/rilab/.local/lib/python3.10/site-packages/stack_data/core.py\", line 178, in line_range\n",
      "    return line_range(self.asttext(), node)\n",
      "  File \"/home/rilab/.local/lib/python3.10/site-packages/executing/executing.py\", line 428, in asttext\n",
      "    self._asttext = ASTText(self.text, tree=self.tree, filename=self.filename)\n",
      "  File \"/home/rilab/.local/lib/python3.10/site-packages/asttokens/asttokens.py\", line 307, in __init__\n",
      "    super(ASTText, self).__init__(source_text, filename)\n",
      "  File \"/home/rilab/.local/lib/python3.10/site-packages/asttokens/asttokens.py\", line 44, in __init__\n",
      "    source_text = six.ensure_text(source_text)\n",
      "AttributeError: module 'six' has no attribute 'ensure_text'\n"
     ]
    }
   ],
   "source": [
    "p_target = np.array([0.9, 0.27 , 0.9])\n",
    "R_target = rpy2r(np.array([-180,0,90])*np.pi/180.0)\n",
    "\n",
    "q_ik_target = solve_ik(env=env,\n",
    "    body_name='ur_tcp_link',p_trgt=p_target,R_trgt=R_target,\n",
    "    IK_P=True,IK_R=True, q_init=q_init,idxs_forward=[0,1,2,3,4], idxs_jacobian=[0,1,2,3,4],\n",
    "    inc_prefix = 'ur', exc_prefix=None,\n",
    "    RESET=False, DO_RENDER=True, th=1, err_th=1e-3, stepsize=1, w_weight=0.3, render_every=1.0, repulse=1)\n",
    "\n",
    "print(f\"Initial Joint values: {q_init}\")\n",
    "print(f\"Solved IK: {q_ik_target}\")\n",
    "\n",
    "# Close viewer\n",
    "env.close_viewer()\n",
    "print (\"Done.\")"
   ]
  },
  {
   "cell_type": "code",
   "execution_count": 70,
   "metadata": {},
   "outputs": [],
   "source": [
    "env.viewer.close()"
   ]
  },
  {
   "cell_type": "code",
   "execution_count": 31,
   "metadata": {},
   "outputs": [],
   "source": [
    "q_array = np.vstack([q_init,q_ik_target])"
   ]
  },
  {
   "cell_type": "code",
   "execution_count": 32,
   "metadata": {},
   "outputs": [],
   "source": [
    "times, q_traj = get_interp_const_vel_traj(q_array, vel=np.radians(30), HZ=env.HZ)\n",
    "total_time = times[-1]"
   ]
  },
  {
   "cell_type": "code",
   "execution_count": 33,
   "metadata": {},
   "outputs": [
    {
     "data": {
      "text/plain": [
       "4.645504917247373"
      ]
     },
     "execution_count": 33,
     "metadata": {},
     "output_type": "execute_result"
    }
   ],
   "source": [
    "total_time"
   ]
  },
  {
   "cell_type": "code",
   "execution_count": 15,
   "metadata": {},
   "outputs": [
    {
     "data": {
      "text/plain": [
       "(1941, 6)"
      ]
     },
     "execution_count": 15,
     "metadata": {},
     "output_type": "execute_result"
    }
   ],
   "source": [
    "q_traj.shape"
   ]
  },
  {
   "cell_type": "code",
   "execution_count": 18,
   "metadata": {},
   "outputs": [],
   "source": [
    "from model.robot_client import RobotClient, ROBOT_JOINTS\n",
    "import rclpy\n",
    "from control_msgs.action import FollowJointTrajectory\n",
    "from trajectory_msgs.msg import JointTrajectory, JointTrajectoryPoint\n",
    "import numpy as np\n",
    "import sys\n",
    "from builtin_interfaces.msg import Duration"
   ]
  },
  {
   "cell_type": "code",
   "execution_count": 19,
   "metadata": {},
   "outputs": [
    {
     "name": "stdout",
     "output_type": "stream",
     "text": [
      "\n"
     ]
    },
    {
     "name": "stderr",
     "output_type": "stream",
     "text": [
      "[INFO] [1695403149.423489725] [minimal_client_async]: Successfully connected to action '/scaled_joint_trajectory_controller/follow_joint_trajectory'\n"
     ]
    }
   ],
   "source": [
    "rclpy.init(args=None)\n",
    "client = RobotClient()"
   ]
  },
  {
   "cell_type": "markdown",
   "metadata": {},
   "source": [
    "### Capture Pose"
   ]
  },
  {
   "cell_type": "code",
   "execution_count": 36,
   "metadata": {},
   "outputs": [
    {
     "name": "stdout",
     "output_type": "stream",
     "text": [
      "[(builtin_interfaces.msg.Duration(sec=7, nanosec=0), array([-1.57079633, -2.31186313,  2.14413699,  1.7392206 ,  0.78539816,\n",
      "       -1.57114539]))]\n"
     ]
    },
    {
     "name": "stderr",
     "output_type": "stream",
     "text": [
      "[INFO] [1695403431.600200648] [minimal_client_async]: Sending goal to action server '/scaled_joint_trajectory_controller/follow_joint_trajectory'\n",
      "[INFO] [1695403431.602072621] [minimal_client_async]: Result of action: ClientGoalHandle <id=[187 178 207 171  65 200  78  77 188  54  37 109 176  69  32 178], accepted=True, status=0>\n"
     ]
    },
    {
     "data": {
      "text/plain": [
       "ClientGoalHandle <id=[187 178 207 171  65 200  78  77 188  54  37 109 176  69  32 178], accepted=True, status=0>"
      ]
     },
     "execution_count": 36,
     "metadata": {},
     "output_type": "execute_result"
    }
   ],
   "source": [
    "test_trajectory = [\n",
    "    (Duration(sec=7, nanosec=0), q_init),\n",
    "    # (Duration(sec=6, nanosec=500000000), [-0.1 for j in ROBOT_JOINTS]),\n",
    "]\n",
    "print(test_trajectory)\n",
    "trajectory = JointTrajectory(\n",
    "    joint_names=[client.tf_prefix + joint for joint in ROBOT_JOINTS],\n",
    "    points=[\n",
    "        JointTrajectoryPoint(positions=test_pos, time_from_start=test_time)\n",
    "        for (test_time, test_pos) in test_trajectory\n",
    "    ],\n",
    ")\n",
    "client.send_request(trajectory)"
   ]
  },
  {
   "cell_type": "markdown",
   "metadata": {},
   "source": [
    "### IK Pose"
   ]
  },
  {
   "cell_type": "code",
   "execution_count": 35,
   "metadata": {},
   "outputs": [
    {
     "name": "stdout",
     "output_type": "stream",
     "text": [
      "[(builtin_interfaces.msg.Duration(sec=4, nanosec=645504917), array([ 2.31113657e-01, -7.72352027e-01,  1.46417924e+00, -6.93160087e-01,\n",
      "        1.80070425e+00, -3.39025738e-04]))]\n"
     ]
    },
    {
     "name": "stderr",
     "output_type": "stream",
     "text": [
      "[INFO] [1695403419.694076387] [minimal_client_async]: Sending goal to action server '/scaled_joint_trajectory_controller/follow_joint_trajectory'\n",
      "[INFO] [1695403419.696910767] [minimal_client_async]: Result of action: ClientGoalHandle <id=[ 91 135  83 170  68 154  73 154 131 170  11  33 229 230   4 243], accepted=True, status=0>\n"
     ]
    },
    {
     "data": {
      "text/plain": [
       "ClientGoalHandle <id=[ 91 135  83 170  68 154  73 154 131 170  11  33 229 230   4 243], accepted=True, status=0>"
      ]
     },
     "execution_count": 35,
     "metadata": {},
     "output_type": "execute_result"
    }
   ],
   "source": [
    "sec = int(total_time)\n",
    "nanosec = int((total_time - sec) * 1e9)\n",
    "test_trajectory = [\n",
    "    (Duration(sec=sec, nanosec=nanosec), q_ik_target),\n",
    "    # (Duration(sec=6, nanosec=500000000), [-0.1 for j in ROBOT_JOINTS]),\n",
    "]\n",
    "print(test_trajectory)\n",
    "trajectory = JointTrajectory(\n",
    "    joint_names=[client.tf_prefix + joint for joint in ROBOT_JOINTS],\n",
    "    points=[\n",
    "        JointTrajectoryPoint(positions=test_pos, time_from_start=test_time)\n",
    "        for (test_time, test_pos) in test_trajectory\n",
    "    ],\n",
    ")\n",
    "client.send_request(trajectory)"
   ]
  },
  {
   "cell_type": "markdown",
   "metadata": {},
   "source": [
    "### Gripper"
   ]
  },
  {
   "cell_type": "code",
   "execution_count": 22,
   "metadata": {},
   "outputs": [],
   "source": [
    "from pymodbus.client.sync import ModbusTcpClient\n",
    "from model.gripper import *\n"
   ]
  },
  {
   "cell_type": "code",
   "execution_count": 23,
   "metadata": {},
   "outputs": [],
   "source": [
    "graspclient = ModbusTcpClient('192.168.0.13') \n",
    "# closeGrasp(200,100,graspclient)\n",
    "openGrasp(400,1000,graspclient)"
   ]
  },
  {
   "cell_type": "code",
   "execution_count": null,
   "metadata": {},
   "outputs": [],
   "source": []
  }
 ],
 "metadata": {
  "kernelspec": {
   "display_name": "Python 3",
   "language": "python",
   "name": "python3"
  },
  "language_info": {
   "codemirror_mode": {
    "name": "ipython",
    "version": 3
   },
   "file_extension": ".py",
   "mimetype": "text/x-python",
   "name": "python",
   "nbconvert_exporter": "python",
   "pygments_lexer": "ipython3",
   "version": "3.10.12"
  },
  "orig_nbformat": 4
 },
 "nbformat": 4,
 "nbformat_minor": 2
}
