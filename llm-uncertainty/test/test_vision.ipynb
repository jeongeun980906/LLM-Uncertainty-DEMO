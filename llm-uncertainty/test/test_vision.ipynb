{
 "cells": [
  {
   "cell_type": "code",
   "execution_count": null,
   "metadata": {},
   "outputs": [
    {
     "ename": "",
     "evalue": "",
     "output_type": "error",
     "traceback": [
      "\u001b[1;31mThe kernel failed to start due to the missing module 'pexpect'. Consider installing this module.\n",
      "\u001b[1;31mClick <a href='https://aka.ms/kernelFailuresMissingModule'>here</a> for more info."
     ]
    }
   ],
   "source": [
    "import numpy as np\n",
    "import rclpy\n",
    "from rclpy.node import Node\n",
    "from cv_bridge import CvBridge\n",
    "from vision.owl import owl_vit\n",
    "from sensor_msgs.msg import Image, CameraInfo\n",
    "import message_filters\n",
    "from vision.util import get_det_points, Rotation_X, Rotation_Y, Translation, HT_matrix\n",
    "import math\n",
    "import cv2\n",
    "from vision.detector import compute_xyz"
   ]
  },
  {
   "cell_type": "code",
   "execution_count": 67,
   "metadata": {},
   "outputs": [],
   "source": [
    "class ImageListener(Node):\n",
    "    def __init__(self, queries, person=False):\n",
    "        super().__init__('image_listener')\n",
    "        self.model = owl_vit()\n",
    "        self.object_queries = queries\n",
    "        self.model.query_text(queries)\n",
    "        print(\"finish loading model\")\n",
    "        self.cv_bridge = CvBridge()\n",
    "        info_sub = message_filters.Subscriber(self, CameraInfo, '/camera/color/camera_info')\n",
    "        rbg_sub = message_filters.Subscriber(self, Image, '/camera/color/image_raw')\n",
    "        depth_sub = message_filters.Subscriber(self, Image, '/camera/aligned_depth_to_color/image_raw')\n",
    "        ts = message_filters.ApproximateTimeSynchronizer([info_sub, rbg_sub, depth_sub], 10, 1, allow_headerless=True)\n",
    "        ts.registerCallback(self.callback)\n",
    "        self.depth_cv = None\n",
    "        self.rgb_cv = None\n",
    "        self.det_vis_pub = self.create_publisher(Image, '/det_vis', 10)\n",
    "        if person:\n",
    "            self.human_sub = self.create_subscription(Image, '/zed/image_raw', self.human_callback, 10)\n",
    "            self.human_det_pub = self.create_publisher(Image, '/human_det_vis', 10)\n",
    "    def human_callback(self, msg):\n",
    "        self.human_cv = self.cv_bridge.imgmsg_to_cv2(msg)\n",
    "        print(\"got human image\")\n",
    "\n",
    "    def callback(self, info_msg, rgb_msg, depth_msg):\n",
    "        # camera info\n",
    "        print(info_msg)\n",
    "        intrinsics = np.array(info_msg.p).reshape(3, 4)\n",
    "        self.fx = intrinsics[0, 0]\n",
    "        self.fy = intrinsics[1, 1]\n",
    "        self.px = intrinsics[0, 2]\n",
    "        self.py = intrinsics[1, 2]\n",
    "        self.intrinsics = intrinsics\n",
    "        print(\"got image\")\n",
    "        if depth_msg.encoding == '32FC1':\n",
    "            depth_cv = self.cv_bridge.imgmsg_to_cv2(depth_msg)\n",
    "        elif depth_msg.encoding == '16UC1':\n",
    "            depth_cv = self.cv_bridge.imgmsg_to_cv2(depth_msg).copy().astype(np.float32)\n",
    "            depth_cv /= 1000.0\n",
    "        else:\n",
    "            self.get_logger().error('Depth image has unsupported encoding: %s' % depth_msg.encoding)\n",
    "            return\n",
    "        rbg_cv = self.cv_bridge.imgmsg_to_cv2(rgb_msg)\n",
    "        self.depth_cv = depth_cv\n",
    "        self.rgb_cv = rbg_cv\n",
    "\n",
    "    def detect_human(self, human_queries, save_indx = None):\n",
    "        self.model.query_text(human_queries)\n",
    "        if self.human_cv is None:\n",
    "            print(\"no human image\")\n",
    "            return None\n",
    "        print(\"start detecting\")\n",
    "        if save_indx is not None:\n",
    "            cv2.imwrite(\"./data/det/human_ori_{}.jpg\".format(save_indx), self.human_cv)\n",
    "        # inp = cv2.cvtColor(self.human_cv, cv2.COLOR_BGR2RGB)\n",
    "        im_color,_, boxes, found_object_names = self.model.detect(self.human_cv, thres=0.1)\n",
    "        if save_indx is not None:\n",
    "            cv2.imwrite(\"./data/det/human_det_{}.jpg\".format(save_indx), im_color)\n",
    "        self.human_det_pub.publish(self.cv_bridge.cv2_to_imgmsg(im_color))\n",
    "        return boxes, found_object_names\n",
    "    \n",
    "    def detect_object(self, save_indx = None):\n",
    "        self.model.query_text(self.object_queries)\n",
    "        if self.depth_cv is None or self.rgb_cv is None:\n",
    "            print(\"no image\")\n",
    "            return None, None\n",
    "        print(\"start detecting\")\n",
    "        inp = self.rgb_cv #cv2.cvtColor(self.rgb_cv, cv2.COLOR_BGR2RGB)\n",
    "        if save_indx is not None:\n",
    "            cv2.imwrite(\"./data/det/ori_{}.jpg\".format(save_indx), inp)\n",
    "        xyz_img = compute_xyz(self.depth_cv, self.fx, self.fy, self.px, self.py, self.depth_cv.shape[0], self.depth_cv.shape[1])\n",
    "        im_color,index_mask, boxes, found_object_names = self.model.detect(inp, thres=0.05)\n",
    "        self.det_vis_pub.publish(self.cv_bridge.cv2_to_imgmsg(im_color))\n",
    "        objects_xyz = self.get_position(index_mask, xyz_img)\n",
    "        if save_indx is not None:\n",
    "            im_color = cv2.cvtColor(im_color, cv2.COLOR_BGR2RGB)\n",
    "            cv2.imwrite(\"./data/det/det_{}.jpg\".format(save_indx), im_color)\n",
    "        return objects_xyz, found_object_names\n",
    "    \n",
    "    def get_position(self, label_mask, xyz_img):\n",
    "        # Calibration\n",
    "        rotation_x   = Rotation_X(-math.pi)\n",
    "        rotation_y   = Rotation_Y(-math.pi/4)\n",
    "        rotation_mat = np.dot(rotation_x, rotation_y)\n",
    "        position_mat = Translation(0.454,0.01,1.33)\n",
    "        transform_mat= HT_matrix(rotation_mat, position_mat)\n",
    "        objects_xyz = get_det_points(depth_pixel=xyz_img, label_pixel=label_mask, transform_mat=transform_mat)\n",
    "        return objects_xyz"
   ]
  },
  {
   "cell_type": "code",
   "execution_count": 68,
   "metadata": {},
   "outputs": [
    {
     "name": "stdout",
     "output_type": "stream",
     "text": [
      "Unexpected exception formatting exception. Falling back to standard exception\n"
     ]
    },
    {
     "name": "stderr",
     "output_type": "stream",
     "text": [
      "Traceback (most recent call last):\n",
      "  File \"/home/rilab/.local/lib/python3.10/site-packages/IPython/core/interactiveshell.py\", line 3508, in run_code\n",
      "    exec(code_obj, self.user_global_ns, self.user_ns)\n",
      "  File \"/tmp/ipykernel_28231/1494223770.py\", line 1, in <module>\n",
      "    rclpy.init()\n",
      "  File \"/opt/ros/humble/local/lib/python3.10/dist-packages/rclpy/__init__.py\", line 89, in init\n",
      "    return context.init(args, domain_id=domain_id)\n",
      "  File \"/opt/ros/humble/local/lib/python3.10/dist-packages/rclpy/context.py\", line 70, in init\n",
      "    raise RuntimeError('Context.init() must only be called once')\n",
      "RuntimeError: Context.init() must only be called once\n",
      "\n",
      "During handling of the above exception, another exception occurred:\n",
      "\n",
      "Traceback (most recent call last):\n",
      "  File \"/home/rilab/.local/lib/python3.10/site-packages/IPython/core/interactiveshell.py\", line 2105, in showtraceback\n",
      "    stb = self.InteractiveTB.structured_traceback(\n",
      "  File \"/home/rilab/.local/lib/python3.10/site-packages/IPython/core/ultratb.py\", line 1428, in structured_traceback\n",
      "    return FormattedTB.structured_traceback(\n",
      "  File \"/home/rilab/.local/lib/python3.10/site-packages/IPython/core/ultratb.py\", line 1319, in structured_traceback\n",
      "    return VerboseTB.structured_traceback(\n",
      "  File \"/home/rilab/.local/lib/python3.10/site-packages/IPython/core/ultratb.py\", line 1172, in structured_traceback\n",
      "    formatted_exception = self.format_exception_as_a_whole(etype, evalue, etb, number_of_lines_of_context,\n",
      "  File \"/home/rilab/.local/lib/python3.10/site-packages/IPython/core/ultratb.py\", line 1087, in format_exception_as_a_whole\n",
      "    frames.append(self.format_record(record))\n",
      "  File \"/home/rilab/.local/lib/python3.10/site-packages/IPython/core/ultratb.py\", line 969, in format_record\n",
      "    frame_info.lines, Colors, self.has_colors, lvals\n",
      "  File \"/home/rilab/.local/lib/python3.10/site-packages/IPython/core/ultratb.py\", line 792, in lines\n",
      "    return self._sd.lines\n",
      "  File \"/home/rilab/.local/lib/python3.10/site-packages/stack_data/utils.py\", line 144, in cached_property_wrapper\n",
      "    value = obj.__dict__[self.func.__name__] = self.func(obj)\n",
      "  File \"/home/rilab/.local/lib/python3.10/site-packages/stack_data/core.py\", line 734, in lines\n",
      "    pieces = self.included_pieces\n",
      "  File \"/home/rilab/.local/lib/python3.10/site-packages/stack_data/utils.py\", line 144, in cached_property_wrapper\n",
      "    value = obj.__dict__[self.func.__name__] = self.func(obj)\n",
      "  File \"/home/rilab/.local/lib/python3.10/site-packages/stack_data/core.py\", line 677, in included_pieces\n",
      "    scope_pieces = self.scope_pieces\n",
      "  File \"/home/rilab/.local/lib/python3.10/site-packages/stack_data/utils.py\", line 144, in cached_property_wrapper\n",
      "    value = obj.__dict__[self.func.__name__] = self.func(obj)\n",
      "  File \"/home/rilab/.local/lib/python3.10/site-packages/stack_data/core.py\", line 614, in scope_pieces\n",
      "    scope_start, scope_end = self.source.line_range(self.scope)\n",
      "  File \"/home/rilab/.local/lib/python3.10/site-packages/stack_data/core.py\", line 178, in line_range\n",
      "    return line_range(self.asttext(), node)\n",
      "  File \"/home/rilab/.local/lib/python3.10/site-packages/executing/executing.py\", line 428, in asttext\n",
      "    self._asttext = ASTText(self.text, tree=self.tree, filename=self.filename)\n",
      "  File \"/home/rilab/.local/lib/python3.10/site-packages/asttokens/asttokens.py\", line 307, in __init__\n",
      "    super(ASTText, self).__init__(source_text, filename)\n",
      "  File \"/home/rilab/.local/lib/python3.10/site-packages/asttokens/asttokens.py\", line 44, in __init__\n",
      "    source_text = six.ensure_text(source_text)\n",
      "AttributeError: module 'six' has no attribute 'ensure_text'\n"
     ]
    }
   ],
   "source": [
    "rclpy.init()"
   ]
  },
  {
   "cell_type": "code",
   "execution_count": 5,
   "metadata": {},
   "outputs": [
    {
     "name": "stdout",
     "output_type": "stream",
     "text": [
      "Unexpected exception formatting exception. Falling back to standard exception\n"
     ]
    },
    {
     "name": "stderr",
     "output_type": "stream",
     "text": [
      "Traceback (most recent call last):\n",
      "  File \"/home/rilab/.local/lib/python3.10/site-packages/IPython/core/interactiveshell.py\", line 3508, in run_code\n",
      "    exec(code_obj, self.user_global_ns, self.user_ns)\n",
      "  File \"/tmp/ipykernel_28231/4098198773.py\", line 1, in <module>\n",
      "    node.destroy_node()\n",
      "NameError: name 'node' is not defined\n",
      "\n",
      "During handling of the above exception, another exception occurred:\n",
      "\n",
      "Traceback (most recent call last):\n",
      "  File \"/home/rilab/.local/lib/python3.10/site-packages/IPython/core/interactiveshell.py\", line 2105, in showtraceback\n",
      "    stb = self.InteractiveTB.structured_traceback(\n",
      "  File \"/home/rilab/.local/lib/python3.10/site-packages/IPython/core/ultratb.py\", line 1428, in structured_traceback\n",
      "    return FormattedTB.structured_traceback(\n",
      "  File \"/home/rilab/.local/lib/python3.10/site-packages/IPython/core/ultratb.py\", line 1319, in structured_traceback\n",
      "    return VerboseTB.structured_traceback(\n",
      "  File \"/home/rilab/.local/lib/python3.10/site-packages/IPython/core/ultratb.py\", line 1172, in structured_traceback\n",
      "    formatted_exception = self.format_exception_as_a_whole(etype, evalue, etb, number_of_lines_of_context,\n",
      "  File \"/home/rilab/.local/lib/python3.10/site-packages/IPython/core/ultratb.py\", line 1087, in format_exception_as_a_whole\n",
      "    frames.append(self.format_record(record))\n",
      "  File \"/home/rilab/.local/lib/python3.10/site-packages/IPython/core/ultratb.py\", line 969, in format_record\n",
      "    frame_info.lines, Colors, self.has_colors, lvals\n",
      "  File \"/home/rilab/.local/lib/python3.10/site-packages/IPython/core/ultratb.py\", line 792, in lines\n",
      "    return self._sd.lines\n",
      "  File \"/home/rilab/.local/lib/python3.10/site-packages/stack_data/utils.py\", line 144, in cached_property_wrapper\n",
      "    value = obj.__dict__[self.func.__name__] = self.func(obj)\n",
      "  File \"/home/rilab/.local/lib/python3.10/site-packages/stack_data/core.py\", line 734, in lines\n",
      "    pieces = self.included_pieces\n",
      "  File \"/home/rilab/.local/lib/python3.10/site-packages/stack_data/utils.py\", line 144, in cached_property_wrapper\n",
      "    value = obj.__dict__[self.func.__name__] = self.func(obj)\n",
      "  File \"/home/rilab/.local/lib/python3.10/site-packages/stack_data/core.py\", line 677, in included_pieces\n",
      "    scope_pieces = self.scope_pieces\n",
      "  File \"/home/rilab/.local/lib/python3.10/site-packages/stack_data/utils.py\", line 144, in cached_property_wrapper\n",
      "    value = obj.__dict__[self.func.__name__] = self.func(obj)\n",
      "  File \"/home/rilab/.local/lib/python3.10/site-packages/stack_data/core.py\", line 614, in scope_pieces\n",
      "    scope_start, scope_end = self.source.line_range(self.scope)\n",
      "  File \"/home/rilab/.local/lib/python3.10/site-packages/stack_data/core.py\", line 178, in line_range\n",
      "    return line_range(self.asttext(), node)\n",
      "  File \"/home/rilab/.local/lib/python3.10/site-packages/executing/executing.py\", line 428, in asttext\n",
      "    self._asttext = ASTText(self.text, tree=self.tree, filename=self.filename)\n",
      "  File \"/home/rilab/.local/lib/python3.10/site-packages/asttokens/asttokens.py\", line 307, in __init__\n",
      "    super(ASTText, self).__init__(source_text, filename)\n",
      "  File \"/home/rilab/.local/lib/python3.10/site-packages/asttokens/asttokens.py\", line 44, in __init__\n",
      "    source_text = six.ensure_text(source_text)\n",
      "AttributeError: module 'six' has no attribute 'ensure_text'\n"
     ]
    }
   ],
   "source": [
    "node.destroy_node()"
   ]
  },
  {
   "cell_type": "code",
   "execution_count": 69,
   "metadata": {},
   "outputs": [
    {
     "name": "stdout",
     "output_type": "stream",
     "text": [
      "start loading owl-vit\n",
      "End Loading\n",
      "finish loading model\n"
     ]
    }
   ],
   "source": [
    "node = ImageListener(['coca cola can', 'fanta can','monster can', 'coffee can', 'lemon', 'redbull can',\n",
    "                      'apple', 'starbucks can', 'orange', 'pepsi can'], person=True)"
   ]
  },
  {
   "cell_type": "code",
   "execution_count": 211,
   "metadata": {},
   "outputs": [],
   "source": [
    "while node.depth_cv is None or node.rgb_cv is None:\n",
    "    rclpy.spin_once(node, timeout_sec=1.0)\n",
    "rclpy.spin_once(node, timeout_sec=1.0)"
   ]
  },
  {
   "cell_type": "code",
   "execution_count": 206,
   "metadata": {},
   "outputs": [],
   "source": [
    "node.object_queries = ['coke can', 'fanta can', 'starbucks can', 'lemon', 'redbull can',\n",
    "                      'apple', 'redbull can', 'orange', 'monster can']#, 'pepsi can']"
   ]
  },
  {
   "cell_type": "code",
   "execution_count": 212,
   "metadata": {},
   "outputs": [
    {
     "name": "stdout",
     "output_type": "stream",
     "text": [
      "start detecting\n",
      "tensor([0.3448, 0.1857, 0.3824, 0.0601, 0.0826, 0.7350])\n",
      "Detected a photo of a apple with confidence 0.735 at location [983.63, 355.46, 1099.34, 456.41]\n",
      "Detected a photo of a coke can with confidence 0.382 at location [411.9, 273.54, 499.74, 425.67]\n",
      "Detected a photo of a monster can with confidence 0.345 at location [572.19, 168.8, 644.27, 342.73]\n",
      "Detected a photo of a monster can with confidence 0.186 at location [802.94, 216.22, 877.44, 355.39]\n",
      "[0 1 2 3 4]\n",
      "Object Center [0.8492119454843259, -0.3183995691242988, 0.82]\n",
      "Object Center [0.8679250407838031, 0.15704504807895994, 0.82]\n",
      "Object Center [0.9670021580309515, 0.03566637844222247, 0.82]\n",
      "Object Center [0.9315438274324427, -0.15954880718569775, 0.82]\n"
     ]
    }
   ],
   "source": [
    "objects_xyz, found_object_names = node.detect_object(save_indx=5)"
   ]
  },
  {
   "cell_type": "code",
   "execution_count": 216,
   "metadata": {},
   "outputs": [
    {
     "name": "stdout",
     "output_type": "stream",
     "text": [
      "got human image\n"
     ]
    }
   ],
   "source": [
    "while node.depth_cv is None or node.rgb_cv is None:\n",
    "    rclpy.spin_once(node, timeout_sec=1.0)\n",
    "rclpy.spin_once(node, timeout_sec=1.0)"
   ]
  },
  {
   "cell_type": "code",
   "execution_count": 217,
   "metadata": {},
   "outputs": [
    {
     "name": "stdout",
     "output_type": "stream",
     "text": [
      "start detecting\n",
      "tensor([0.1867, 0.2380, 0.1813, 0.1121, 0.2470])\n",
      "Detected a photo of a person wearing black shirt with confidence 0.247 at location [82.8, 243.92, 378.98, 589.53]\n",
      "Detected a photo of a person wearing black shirt with confidence 0.238 at location [656.64, 145.58, 752.01, 441.05]\n",
      "Detected a photo of a person wearing black shirt with confidence 0.187 at location [517.9, 151.09, 624.52, 398.56]\n",
      "Detected a photo of a person wearing green shirt with confidence 0.181 at location [412.7, 167.76, 518.4, 449.48]\n"
     ]
    }
   ],
   "source": [
    "human_boxes, human_names = node.detect_human(['person wearing gray shirt', \n",
    "                                              'person wearing green shirt', \n",
    "                                              'person wearing black shirt', 'person wearing blue shirt']\n",
    "                                              , save_indx=5)"
   ]
  },
  {
   "cell_type": "code",
   "execution_count": 218,
   "metadata": {},
   "outputs": [],
   "source": [
    "centers = [(box[0] + box[2])/2 for box in human_boxes]\n",
    "centers = np.array(centers)\n",
    "sorted_index = np.argsort(centers)\n",
    "\n"
   ]
  },
  {
   "cell_type": "code",
   "execution_count": 219,
   "metadata": {},
   "outputs": [],
   "source": [
    "human_data = []\n",
    "for i in range(len(centers)):\n",
    "    indx = int(3 - sorted_index[i])\n",
    "    human_data.append(indx)"
   ]
  },
  {
   "cell_type": "code",
   "execution_count": 220,
   "metadata": {},
   "outputs": [
    {
     "data": {
      "text/plain": [
       "([3, 0, 1, 2],\n",
       " ['a photo of a person wearing black shirt',\n",
       "  'a photo of a person wearing black shirt',\n",
       "  'a photo of a person wearing black shirt',\n",
       "  'a photo of a person wearing green shirt'])"
      ]
     },
     "execution_count": 220,
     "metadata": {},
     "output_type": "execute_result"
    }
   ],
   "source": [
    "human_data, human_names"
   ]
  },
  {
   "cell_type": "code",
   "execution_count": 81,
   "metadata": {},
   "outputs": [],
   "source": [
    "rclpy.shutdown()"
   ]
  },
  {
   "cell_type": "code",
   "execution_count": 30,
   "metadata": {},
   "outputs": [
    {
     "data": {
      "text/plain": [
       "([[1.0119115163426762, 0.04988672025961422, 0.82],\n",
       "  [0.9535481805901102, -0.237059144786264, 0.82],\n",
       "  [0.9281271281774758, -0.0837396599989099, 0.82],\n",
       "  [0.9109748339821183, 0.230179104231586, 0.82]],\n",
       " ['a photo of a apple',\n",
       "  'a photo of a pepsi can',\n",
       "  'a photo of a pepsi can',\n",
       "  'a photo of a monster can'])"
      ]
     },
     "execution_count": 30,
     "metadata": {},
     "output_type": "execute_result"
    }
   ],
   "source": [
    "objects_xyz, found_object_names"
   ]
  },
  {
   "cell_type": "code",
   "execution_count": 221,
   "metadata": {},
   "outputs": [],
   "source": [
    "object_names = [name.replace(\"a photo of a\",\"\") for name in found_object_names]\n",
    "human_names = [name.replace(\"a photo of a\",\"\") for name in human_names]"
   ]
  },
  {
   "cell_type": "markdown",
   "metadata": {},
   "source": [
    "## Save"
   ]
  },
  {
   "cell_type": "code",
   "execution_count": 222,
   "metadata": {},
   "outputs": [],
   "source": [
    "det_res = {\n",
    "        \"objects_xyz\": objects_xyz, \"object_name\": object_names,\n",
    "        'person_name': human_names, 'person_data': human_data\n",
    "    }"
   ]
  },
  {
   "cell_type": "code",
   "execution_count": 223,
   "metadata": {},
   "outputs": [
    {
     "data": {
      "text/plain": [
       "{'objects_xyz': [[0.8492119454843259, -0.3183995691242988, 0.82],\n",
       "  [0.8679250407838031, 0.15704504807895994, 0.82],\n",
       "  [0.9670021580309515, 0.03566637844222247, 0.82],\n",
       "  [0.9315438274324427, -0.15954880718569775, 0.82]],\n",
       " 'object_name': [' apple', ' coke can', ' monster can', ' monster can'],\n",
       " 'person_name': [' person wearing black shirt',\n",
       "  ' person wearing black shirt',\n",
       "  ' person wearing black shirt',\n",
       "  ' person wearing green shirt'],\n",
       " 'person_data': [3, 0, 1, 2]}"
      ]
     },
     "execution_count": 223,
     "metadata": {},
     "output_type": "execute_result"
    }
   ],
   "source": [
    "det_res"
   ]
  },
  {
   "cell_type": "code",
   "execution_count": 151,
   "metadata": {},
   "outputs": [],
   "source": [
    "import json\n",
    "class parser():\n",
    "    def __init__(self,cat='certain', idx=0, trial=0):\n",
    "        self.cat = cat\n",
    "        self.index = idx\n",
    "        self.trial = trial"
   ]
  },
  {
   "cell_type": "code",
   "execution_count": 224,
   "metadata": {},
   "outputs": [],
   "source": [
    "args = parser('demo', 5)\n",
    "with open(\"./data/det/{}_{}.json\".format(args.cat, args.index), \"w\") as f:\n",
    "    json.dump(det_res, f, indent=4)"
   ]
  },
  {
   "cell_type": "markdown",
   "metadata": {},
   "source": [
    "### Parse"
   ]
  },
  {
   "cell_type": "code",
   "execution_count": null,
   "metadata": {},
   "outputs": [],
   "source": [
    "with open(\"./data/det/{}_{}.json\".format(args.cat, args.index), \"r\") as f:\n",
    "    data = json.load(f)\n",
    "objects_xyz = data['objects_xyz']"
   ]
  },
  {
   "cell_type": "markdown",
   "metadata": {},
   "source": [
    "## Move robot"
   ]
  },
  {
   "cell_type": "code",
   "execution_count": null,
   "metadata": {},
   "outputs": [
    {
     "ename": "",
     "evalue": "",
     "output_type": "error",
     "traceback": [
      "\u001b[1;31mThe kernel failed to start due to the missing module 'pexpect'. Consider installing this module.\n",
      "\u001b[1;31mClick <a href='https://aka.ms/kernelFailuresMissingModule'>here</a> for more info."
     ]
    }
   ],
   "source": [
    "rclpy.init()"
   ]
  },
  {
   "cell_type": "code",
   "execution_count": null,
   "metadata": {},
   "outputs": [
    {
     "name": "stderr",
     "output_type": "stream",
     "text": [
      "2023-10-04 15:33:14,604\tINFO util.py:159 -- Missing packages: ['ipywidgets']. Run `pip install -U ipywidgets`, then restart the notebook server for rich notebook output.\n"
     ]
    }
   ],
   "source": [
    "from model.robot_client import RobotClient"
   ]
  },
  {
   "cell_type": "code",
   "execution_count": 37,
   "metadata": {},
   "outputs": [
    {
     "name": "stdout",
     "output_type": "stream",
     "text": [
      "\n"
     ]
    },
    {
     "name": "stderr",
     "output_type": "stream",
     "text": [
      "[INFO] [1696401194.815115334] [minimal_client_async]: Successfully connected to action '/scaled_joint_trajectory_controller/follow_joint_trajectory'\n"
     ]
    },
    {
     "name": "stdout",
     "output_type": "stream",
     "text": [
      "window\n",
      "Initial Joint values: [-1.57079633 -2.31186313  2.14413699  1.7392206   0.78539816 -1.57114539]\n",
      "Solved IK: [-5.03303745e-01 -1.04713223e+00  2.53353154e+00 -1.48565632e+00\n",
      "  1.06600166e+00 -3.99537744e-04]\n",
      "Done.\n"
     ]
    }
   ],
   "source": [
    "client = RobotClient()"
   ]
  },
  {
   "cell_type": "code",
   "execution_count": 230,
   "metadata": {},
   "outputs": [
    {
     "name": "stdout",
     "output_type": "stream",
     "text": [
      "[(builtin_interfaces.msg.Duration(sec=7, nanosec=0), array([-1.57079633, -2.31186313,  2.14413699,  1.7392206 ,  0.78539816,\n",
      "       -1.57114539]))]\n"
     ]
    },
    {
     "name": "stderr",
     "output_type": "stream",
     "text": [
      "[INFO] [1696404566.908883297] [minimal_client_async]: Sending goal to action server '/scaled_joint_trajectory_controller/follow_joint_trajectory'\n"
     ]
    }
   ],
   "source": [
    "client.reset_capture_pose()"
   ]
  },
  {
   "cell_type": "code",
   "execution_count": 153,
   "metadata": {},
   "outputs": [],
   "source": [
    "rclpy.spin_once(client, timeout_sec=1.0)"
   ]
  },
  {
   "cell_type": "code",
   "execution_count": 155,
   "metadata": {},
   "outputs": [
    {
     "name": "stdout",
     "output_type": "stream",
     "text": [
      "[-1.57080967 -2.31184735  2.14411146  1.73921601  0.78538108 -1.57113344]\n"
     ]
    }
   ],
   "source": [
    "print(client.current_q)"
   ]
  },
  {
   "cell_type": "code",
   "execution_count": 231,
   "metadata": {},
   "outputs": [
    {
     "name": "stdout",
     "output_type": "stream",
     "text": [
      "Initial Joint values: [-5.03303745e-01 -1.04713223e+00  2.53353154e+00 -1.48565632e+00\n",
      "  1.06600166e+00 -3.99537744e-04]\n",
      "Solved IK: [-0.58722189 -0.80615712  1.85751721 -1.05310583  0.9838852 ]\n",
      "Done.\n"
     ]
    },
    {
     "name": "stderr",
     "output_type": "stream",
     "text": [
      "[INFO] [1696404588.946433203] [minimal_client_async]: Sending goal to action server '/scaled_joint_trajectory_controller/follow_joint_trajectory'\n",
      "[INFO] [1696404600.650213100] [minimal_client_async]: Sending goal to action server '/scaled_joint_trajectory_controller/follow_joint_trajectory'\n"
     ]
    },
    {
     "name": "stdout",
     "output_type": "stream",
     "text": [
      "[ 1.00091379 -0.159369    0.81978394] [-5.17500226e-01 -7.15624408e-01  1.63801557e+00 -9.24048619e-01\n",
      "  1.05312073e+00 -4.22779714e-04]\n",
      "Initial Joint values: [-5.17500226e-01 -7.15624408e-01  1.63801557e+00 -9.24048619e-01\n",
      "  1.05312073e+00 -4.22779714e-04]\n",
      "Solved IK: [-0.51749989 -1.00536923  1.57818277 -0.57444329  1.05344204]\n",
      "[-5.17499886e-01 -1.00536923e+00  1.57818277e+00 -5.74443289e-01\n",
      "  1.05344204e+00 -4.22779714e-04]\n",
      "Done.\n"
     ]
    },
    {
     "name": "stderr",
     "output_type": "stream",
     "text": [
      "[INFO] [1696404605.092978498] [minimal_client_async]: Sending goal to action server '/scaled_joint_trajectory_controller/follow_joint_trajectory'\n"
     ]
    }
   ],
   "source": [
    "pick_pos = np.asarray(objects_xyz[0])\n",
    "client.pick(pick_pos)\n",
    "client.give(1)"
   ]
  },
  {
   "cell_type": "code",
   "execution_count": 56,
   "metadata": {},
   "outputs": [
    {
     "name": "stdout",
     "output_type": "stream",
     "text": [
      "[ 1.02138185 -0.23695304  0.81979554] [-6.11429040e-01 -6.46072463e-01  1.47676164e+00 -8.32377688e-01\n",
      "  9.59498048e-01 -4.10381948e-04]\n",
      "Initial Joint values: [-6.11429040e-01 -6.46072463e-01  1.47676164e+00 -8.32377688e-01\n",
      "  9.59498048e-01 -4.10381948e-04]\n",
      "Solved IK: [-0.61151962 -0.91193703  1.41696613 -0.50680236  0.95954654]\n",
      "[-6.11519619e-01 -9.11937032e-01  1.41696613e+00 -5.06802365e-01\n",
      "  9.59546539e-01 -4.10381948e-04]\n",
      "Done.\n"
     ]
    },
    {
     "name": "stderr",
     "output_type": "stream",
     "text": [
      "[INFO] [1696402174.533656370] [minimal_client_async]: Sending goal to action server '/scaled_joint_trajectory_controller/follow_joint_trajectory'\n"
     ]
    }
   ],
   "source": [
    "client.give(2)"
   ]
  },
  {
   "cell_type": "code",
   "execution_count": 232,
   "metadata": {},
   "outputs": [
    {
     "name": "stderr",
     "output_type": "stream",
     "text": [
      "[INFO] [1696404630.187022588] [minimal_client_async]: Sending goal to action server '/scaled_joint_trajectory_controller/follow_joint_trajectory'\n"
     ]
    }
   ],
   "source": [
    "client.reset_from_back()"
   ]
  },
  {
   "cell_type": "code",
   "execution_count": 200,
   "metadata": {},
   "outputs": [
    {
     "name": "stderr",
     "output_type": "stream",
     "text": [
      "[INFO] [1696404057.065617887] [minimal_client_async]: Sending goal to action server '/scaled_joint_trajectory_controller/follow_joint_trajectory'\n",
      "[INFO] [1696404065.270731215] [minimal_client_async]: Sending goal to action server '/scaled_joint_trajectory_controller/follow_joint_trajectory'\n"
     ]
    }
   ],
   "source": [
    "client.infeasible_callback()"
   ]
  },
  {
   "cell_type": "code",
   "execution_count": 13,
   "metadata": {},
   "outputs": [
    {
     "name": "stderr",
     "output_type": "stream",
     "text": [
      "[INFO] [1696355424.195383480] [minimal_client_async]: Sending goal to action server '/scaled_joint_trajectory_controller/follow_joint_trajectory'\n",
      "[INFO] [1696355426.249750423] [minimal_client_async]: Sending goal to action server '/scaled_joint_trajectory_controller/follow_joint_trajectory'\n"
     ]
    }
   ],
   "source": [
    "import time\n",
    "deg = 30\n",
    "\n",
    "q_array = np.vstack([client.current_q, client.pre_pose])\n",
    "client.send_trajectory(q_array, vel=30)\n",
    "time.sleep(2)\n",
    "capture_pose_q = client.capture_q.copy()\n",
    "rad = deg/180.0*np.pi\n",
    "left = capture_pose_q.copy()\n",
    "left[0] += rad\n",
    "right = capture_pose_q.copy()\n",
    "right[0] -= rad\n",
    "q_array = np.vstack([client.pre_pose, capture_pose_q, left, right])\n",
    "for _ in range(1):\n",
    "    q_array = np.vstack([q_array, left, right])\n",
    "q_array = np.vstack([q_array, capture_pose_q])\n",
    "client.send_trajectory(q_array, vel=25)"
   ]
  },
  {
   "cell_type": "code",
   "execution_count": null,
   "metadata": {},
   "outputs": [],
   "source": []
  }
 ],
 "metadata": {
  "kernelspec": {
   "display_name": "Python 3",
   "language": "python",
   "name": "python3"
  },
  "language_info": {
   "codemirror_mode": {
    "name": "ipython",
    "version": 3
   },
   "file_extension": ".py",
   "mimetype": "text/x-python",
   "name": "python",
   "nbconvert_exporter": "python",
   "pygments_lexer": "ipython3",
   "version": "3.10.12"
  },
  "orig_nbformat": 4
 },
 "nbformat": 4,
 "nbformat_minor": 2
}
